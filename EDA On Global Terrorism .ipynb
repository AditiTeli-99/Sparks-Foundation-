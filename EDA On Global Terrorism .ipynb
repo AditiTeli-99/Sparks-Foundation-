{
 "cells": [
  {
   "cell_type": "markdown",
   "id": "35136ab6",
   "metadata": {},
   "source": [
    "# Exploratory Data Analysis on Global Terrorism"
   ]
  },
  {
   "cell_type": "markdown",
   "id": "e3932b3e",
   "metadata": {},
   "source": [
    "## The Sparks Foundation"
   ]
  },
  {
   "cell_type": "markdown",
   "id": "d1967dff",
   "metadata": {},
   "source": [
    "### Author-  Aditi Teli"
   ]
  },
  {
   "cell_type": "code",
   "execution_count": 1,
   "id": "1c4c5b24",
   "metadata": {},
   "outputs": [],
   "source": [
    "# Importing the necessary libraries\n",
    "\n",
    "import numpy as np\n",
    "import pandas as pd\n",
    "import matplotlib.pyplot as plt\n",
    "%matplotlib inline\n",
    "import seaborn as sns\n",
    "import warnings\n",
    "warnings.filterwarnings(\"ignore\")"
   ]
  },
  {
   "cell_type": "code",
   "execution_count": 2,
   "id": "fbdee035",
   "metadata": {},
   "outputs": [
    {
     "data": {
      "text/html": [
       "<div>\n",
       "<style scoped>\n",
       "    .dataframe tbody tr th:only-of-type {\n",
       "        vertical-align: middle;\n",
       "    }\n",
       "\n",
       "    .dataframe tbody tr th {\n",
       "        vertical-align: top;\n",
       "    }\n",
       "\n",
       "    .dataframe thead th {\n",
       "        text-align: right;\n",
       "    }\n",
       "</style>\n",
       "<table border=\"1\" class=\"dataframe\">\n",
       "  <thead>\n",
       "    <tr style=\"text-align: right;\">\n",
       "      <th></th>\n",
       "      <th>eventid</th>\n",
       "      <th>iyear</th>\n",
       "      <th>imonth</th>\n",
       "      <th>iday</th>\n",
       "      <th>approxdate</th>\n",
       "      <th>extended</th>\n",
       "      <th>resolution</th>\n",
       "      <th>country</th>\n",
       "      <th>country_txt</th>\n",
       "      <th>region</th>\n",
       "      <th>...</th>\n",
       "      <th>addnotes</th>\n",
       "      <th>scite1</th>\n",
       "      <th>scite2</th>\n",
       "      <th>scite3</th>\n",
       "      <th>dbsource</th>\n",
       "      <th>INT_LOG</th>\n",
       "      <th>INT_IDEO</th>\n",
       "      <th>INT_MISC</th>\n",
       "      <th>INT_ANY</th>\n",
       "      <th>related</th>\n",
       "    </tr>\n",
       "  </thead>\n",
       "  <tbody>\n",
       "    <tr>\n",
       "      <th>0</th>\n",
       "      <td>197000000001</td>\n",
       "      <td>1970</td>\n",
       "      <td>7</td>\n",
       "      <td>2</td>\n",
       "      <td>NaN</td>\n",
       "      <td>0</td>\n",
       "      <td>NaN</td>\n",
       "      <td>58</td>\n",
       "      <td>Dominican Republic</td>\n",
       "      <td>2</td>\n",
       "      <td>...</td>\n",
       "      <td>NaN</td>\n",
       "      <td>NaN</td>\n",
       "      <td>NaN</td>\n",
       "      <td>NaN</td>\n",
       "      <td>PGIS</td>\n",
       "      <td>0</td>\n",
       "      <td>0</td>\n",
       "      <td>0</td>\n",
       "      <td>0</td>\n",
       "      <td>NaN</td>\n",
       "    </tr>\n",
       "    <tr>\n",
       "      <th>1</th>\n",
       "      <td>197000000002</td>\n",
       "      <td>1970</td>\n",
       "      <td>0</td>\n",
       "      <td>0</td>\n",
       "      <td>NaN</td>\n",
       "      <td>0</td>\n",
       "      <td>NaN</td>\n",
       "      <td>130</td>\n",
       "      <td>Mexico</td>\n",
       "      <td>1</td>\n",
       "      <td>...</td>\n",
       "      <td>NaN</td>\n",
       "      <td>NaN</td>\n",
       "      <td>NaN</td>\n",
       "      <td>NaN</td>\n",
       "      <td>PGIS</td>\n",
       "      <td>0</td>\n",
       "      <td>1</td>\n",
       "      <td>1</td>\n",
       "      <td>1</td>\n",
       "      <td>NaN</td>\n",
       "    </tr>\n",
       "    <tr>\n",
       "      <th>2</th>\n",
       "      <td>197001000001</td>\n",
       "      <td>1970</td>\n",
       "      <td>1</td>\n",
       "      <td>0</td>\n",
       "      <td>NaN</td>\n",
       "      <td>0</td>\n",
       "      <td>NaN</td>\n",
       "      <td>160</td>\n",
       "      <td>Philippines</td>\n",
       "      <td>5</td>\n",
       "      <td>...</td>\n",
       "      <td>NaN</td>\n",
       "      <td>NaN</td>\n",
       "      <td>NaN</td>\n",
       "      <td>NaN</td>\n",
       "      <td>PGIS</td>\n",
       "      <td>-9</td>\n",
       "      <td>-9</td>\n",
       "      <td>1</td>\n",
       "      <td>1</td>\n",
       "      <td>NaN</td>\n",
       "    </tr>\n",
       "    <tr>\n",
       "      <th>3</th>\n",
       "      <td>197001000002</td>\n",
       "      <td>1970</td>\n",
       "      <td>1</td>\n",
       "      <td>0</td>\n",
       "      <td>NaN</td>\n",
       "      <td>0</td>\n",
       "      <td>NaN</td>\n",
       "      <td>78</td>\n",
       "      <td>Greece</td>\n",
       "      <td>8</td>\n",
       "      <td>...</td>\n",
       "      <td>NaN</td>\n",
       "      <td>NaN</td>\n",
       "      <td>NaN</td>\n",
       "      <td>NaN</td>\n",
       "      <td>PGIS</td>\n",
       "      <td>-9</td>\n",
       "      <td>-9</td>\n",
       "      <td>1</td>\n",
       "      <td>1</td>\n",
       "      <td>NaN</td>\n",
       "    </tr>\n",
       "    <tr>\n",
       "      <th>4</th>\n",
       "      <td>197001000003</td>\n",
       "      <td>1970</td>\n",
       "      <td>1</td>\n",
       "      <td>0</td>\n",
       "      <td>NaN</td>\n",
       "      <td>0</td>\n",
       "      <td>NaN</td>\n",
       "      <td>101</td>\n",
       "      <td>Japan</td>\n",
       "      <td>4</td>\n",
       "      <td>...</td>\n",
       "      <td>NaN</td>\n",
       "      <td>NaN</td>\n",
       "      <td>NaN</td>\n",
       "      <td>NaN</td>\n",
       "      <td>PGIS</td>\n",
       "      <td>-9</td>\n",
       "      <td>-9</td>\n",
       "      <td>1</td>\n",
       "      <td>1</td>\n",
       "      <td>NaN</td>\n",
       "    </tr>\n",
       "  </tbody>\n",
       "</table>\n",
       "<p>5 rows × 135 columns</p>\n",
       "</div>"
      ],
      "text/plain": [
       "        eventid  iyear  imonth  iday approxdate  extended resolution  country  \\\n",
       "0  197000000001   1970       7     2        NaN         0        NaN       58   \n",
       "1  197000000002   1970       0     0        NaN         0        NaN      130   \n",
       "2  197001000001   1970       1     0        NaN         0        NaN      160   \n",
       "3  197001000002   1970       1     0        NaN         0        NaN       78   \n",
       "4  197001000003   1970       1     0        NaN         0        NaN      101   \n",
       "\n",
       "          country_txt  region  ... addnotes scite1 scite2  scite3  dbsource  \\\n",
       "0  Dominican Republic       2  ...      NaN    NaN    NaN     NaN      PGIS   \n",
       "1              Mexico       1  ...      NaN    NaN    NaN     NaN      PGIS   \n",
       "2         Philippines       5  ...      NaN    NaN    NaN     NaN      PGIS   \n",
       "3              Greece       8  ...      NaN    NaN    NaN     NaN      PGIS   \n",
       "4               Japan       4  ...      NaN    NaN    NaN     NaN      PGIS   \n",
       "\n",
       "   INT_LOG  INT_IDEO INT_MISC INT_ANY  related  \n",
       "0        0         0        0       0      NaN  \n",
       "1        0         1        1       1      NaN  \n",
       "2       -9        -9        1       1      NaN  \n",
       "3       -9        -9        1       1      NaN  \n",
       "4       -9        -9        1       1      NaN  \n",
       "\n",
       "[5 rows x 135 columns]"
      ]
     },
     "execution_count": 2,
     "metadata": {},
     "output_type": "execute_result"
    }
   ],
   "source": [
    "# Loading the data\n",
    "\n",
    "df = pd.read_csv(\"Global Terrorism - START data.zip\",encoding=\"latin-1\")\n",
    "df.head()"
   ]
  },
  {
   "cell_type": "code",
   "execution_count": 3,
   "id": "b55cdb77",
   "metadata": {},
   "outputs": [
    {
     "data": {
      "text/plain": [
       "(181691, 135)"
      ]
     },
     "execution_count": 3,
     "metadata": {},
     "output_type": "execute_result"
    }
   ],
   "source": [
    "# Checking the shape of the data\n",
    "\n",
    "df.shape"
   ]
  },
  {
   "cell_type": "code",
   "execution_count": 5,
   "id": "a7fafe72",
   "metadata": {},
   "outputs": [
    {
     "name": "stdout",
     "output_type": "stream",
     "text": [
      "['eventid', 'iyear', 'imonth', 'iday', 'approxdate', 'extended', 'resolution', 'country', 'country_txt', 'region', 'region_txt', 'provstate', 'city', 'latitude', 'longitude', 'specificity', 'vicinity', 'location', 'summary', 'crit1', 'crit2', 'crit3', 'doubtterr', 'alternative', 'alternative_txt', 'multiple', 'success', 'suicide', 'attacktype1', 'attacktype1_txt', 'attacktype2', 'attacktype2_txt', 'attacktype3', 'attacktype3_txt', 'targtype1', 'targtype1_txt', 'targsubtype1', 'targsubtype1_txt', 'corp1', 'target1', 'natlty1', 'natlty1_txt', 'targtype2', 'targtype2_txt', 'targsubtype2', 'targsubtype2_txt', 'corp2', 'target2', 'natlty2', 'natlty2_txt', 'targtype3', 'targtype3_txt', 'targsubtype3', 'targsubtype3_txt', 'corp3', 'target3', 'natlty3', 'natlty3_txt', 'gname', 'gsubname', 'gname2', 'gsubname2', 'gname3', 'gsubname3', 'motive', 'guncertain1', 'guncertain2', 'guncertain3', 'individual', 'nperps', 'nperpcap', 'claimed', 'claimmode', 'claimmode_txt', 'claim2', 'claimmode2', 'claimmode2_txt', 'claim3', 'claimmode3', 'claimmode3_txt', 'compclaim', 'weaptype1', 'weaptype1_txt', 'weapsubtype1', 'weapsubtype1_txt', 'weaptype2', 'weaptype2_txt', 'weapsubtype2', 'weapsubtype2_txt', 'weaptype3', 'weaptype3_txt', 'weapsubtype3', 'weapsubtype3_txt', 'weaptype4', 'weaptype4_txt', 'weapsubtype4', 'weapsubtype4_txt', 'weapdetail', 'nkill', 'nkillus', 'nkillter', 'nwound', 'nwoundus', 'nwoundte', 'property', 'propextent', 'propextent_txt', 'propvalue', 'propcomment', 'ishostkid', 'nhostkid', 'nhostkidus', 'nhours', 'ndays', 'divert', 'kidhijcountry', 'ransom', 'ransomamt', 'ransomamtus', 'ransompaid', 'ransompaidus', 'ransomnote', 'hostkidoutcome', 'hostkidoutcome_txt', 'nreleased', 'addnotes', 'scite1', 'scite2', 'scite3', 'dbsource', 'INT_LOG', 'INT_IDEO', 'INT_MISC', 'INT_ANY', 'related']\n"
     ]
    }
   ],
   "source": [
    "# Looking for all the columns:\n",
    "\n",
    "print(df.columns.tolist())"
   ]
  },
  {
   "cell_type": "markdown",
   "id": "19e4a2a3",
   "metadata": {},
   "source": [
    "There are around 100000+ rows and 135 columns in the dataset. There can be certain columns which are redundant and they create unnecessary noise in the data.Only columns that we feel are necessary such as year,month,day,country,state,region,city,Attack type,etc which are crucial for the analysis needs to be kept."
   ]
  },
  {
   "cell_type": "markdown",
   "id": "709ef626",
   "metadata": {},
   "source": [
    "As we can see that since there are many columns in the dataset, all columns are not displayed. Also columns such as \"iyear\" should be replaced with another name as \"Year\". Same goes to all other columns whose names are not proper, they are need to be replaced with proper names."
   ]
  },
  {
   "cell_type": "code",
   "execution_count": 6,
   "id": "1a617833",
   "metadata": {},
   "outputs": [],
   "source": [
    "# Renaming the column names which are not defined correctly:\n",
    "\n",
    "df.rename(columns={\"iyear\":\"Year\",\"imonth\":\"Month\",\"iday\":\"Day\",'country_txt':\"Country\",\"provstate\":\"State\",\n",
    "                   \"region_txt\":\"Region\",\"attacktype1_txt\":\"Attacktype\",\"target1\":\"target\",\"nkill\":\"Killed\",\n",
    "                    \"nwound\":\"Wounded\",\"gname\":\"Group\",\"targtype1_txt\":\"target_type\",\"weaptype1_txt\":\"Weapon_type\"},inplace=True)"
   ]
  },
  {
   "cell_type": "code",
   "execution_count": 7,
   "id": "d4e043f6",
   "metadata": {},
   "outputs": [
    {
     "name": "stdout",
     "output_type": "stream",
     "text": [
      "['eventid', 'Year', 'Month', 'Day', 'approxdate', 'extended', 'resolution', 'country', 'Country', 'region', 'Region', 'State', 'city', 'latitude', 'longitude', 'specificity', 'vicinity', 'location', 'summary', 'crit1', 'crit2', 'crit3', 'doubtterr', 'alternative', 'alternative_txt', 'multiple', 'success', 'suicide', 'attacktype1', 'Attacktype', 'attacktype2', 'attacktype2_txt', 'attacktype3', 'attacktype3_txt', 'targtype1', 'target_type', 'targsubtype1', 'targsubtype1_txt', 'corp1', 'target', 'natlty1', 'natlty1_txt', 'targtype2', 'targtype2_txt', 'targsubtype2', 'targsubtype2_txt', 'corp2', 'target2', 'natlty2', 'natlty2_txt', 'targtype3', 'targtype3_txt', 'targsubtype3', 'targsubtype3_txt', 'corp3', 'target3', 'natlty3', 'natlty3_txt', 'Group', 'gsubname', 'gname2', 'gsubname2', 'gname3', 'gsubname3', 'motive', 'guncertain1', 'guncertain2', 'guncertain3', 'individual', 'nperps', 'nperpcap', 'claimed', 'claimmode', 'claimmode_txt', 'claim2', 'claimmode2', 'claimmode2_txt', 'claim3', 'claimmode3', 'claimmode3_txt', 'compclaim', 'weaptype1', 'Weapon_type', 'weapsubtype1', 'weapsubtype1_txt', 'weaptype2', 'weaptype2_txt', 'weapsubtype2', 'weapsubtype2_txt', 'weaptype3', 'weaptype3_txt', 'weapsubtype3', 'weapsubtype3_txt', 'weaptype4', 'weaptype4_txt', 'weapsubtype4', 'weapsubtype4_txt', 'weapdetail', 'Killed', 'nkillus', 'nkillter', 'Wounded', 'nwoundus', 'nwoundte', 'property', 'propextent', 'propextent_txt', 'propvalue', 'propcomment', 'ishostkid', 'nhostkid', 'nhostkidus', 'nhours', 'ndays', 'divert', 'kidhijcountry', 'ransom', 'ransomamt', 'ransomamtus', 'ransompaid', 'ransompaidus', 'ransomnote', 'hostkidoutcome', 'hostkidoutcome_txt', 'nreleased', 'addnotes', 'scite1', 'scite2', 'scite3', 'dbsource', 'INT_LOG', 'INT_IDEO', 'INT_MISC', 'INT_ANY', 'related']\n"
     ]
    }
   ],
   "source": [
    "print(df.columns.tolist())"
   ]
  },
  {
   "cell_type": "code",
   "execution_count": 8,
   "id": "8d3a5cff",
   "metadata": {},
   "outputs": [],
   "source": [
    "# We will pick the selective columns which are important for our analysis:\n",
    "\n",
    "df1 = df[[\"Year\",\"Month\",\"Day\",\"Country\",\"State\",\"Region\",'city','latitude', 'longitude','Attacktype',\"Killed\",\"Wounded\",\n",
    "         \"target\",\"summary\",\"Group\",\"target_type\",\"Weapon_type\"]]"
   ]
  },
  {
   "cell_type": "code",
   "execution_count": 9,
   "id": "c9eaa3fc",
   "metadata": {},
   "outputs": [
    {
     "data": {
      "text/html": [
       "<div>\n",
       "<style scoped>\n",
       "    .dataframe tbody tr th:only-of-type {\n",
       "        vertical-align: middle;\n",
       "    }\n",
       "\n",
       "    .dataframe tbody tr th {\n",
       "        vertical-align: top;\n",
       "    }\n",
       "\n",
       "    .dataframe thead th {\n",
       "        text-align: right;\n",
       "    }\n",
       "</style>\n",
       "<table border=\"1\" class=\"dataframe\">\n",
       "  <thead>\n",
       "    <tr style=\"text-align: right;\">\n",
       "      <th></th>\n",
       "      <th>Year</th>\n",
       "      <th>Month</th>\n",
       "      <th>Day</th>\n",
       "      <th>Country</th>\n",
       "      <th>State</th>\n",
       "      <th>Region</th>\n",
       "      <th>city</th>\n",
       "      <th>latitude</th>\n",
       "      <th>longitude</th>\n",
       "      <th>Attacktype</th>\n",
       "      <th>Killed</th>\n",
       "      <th>Wounded</th>\n",
       "      <th>target</th>\n",
       "      <th>summary</th>\n",
       "      <th>Group</th>\n",
       "      <th>target_type</th>\n",
       "      <th>Weapon_type</th>\n",
       "    </tr>\n",
       "  </thead>\n",
       "  <tbody>\n",
       "    <tr>\n",
       "      <th>0</th>\n",
       "      <td>1970</td>\n",
       "      <td>7</td>\n",
       "      <td>2</td>\n",
       "      <td>Dominican Republic</td>\n",
       "      <td>NaN</td>\n",
       "      <td>Central America &amp; Caribbean</td>\n",
       "      <td>Santo Domingo</td>\n",
       "      <td>18.456792</td>\n",
       "      <td>-69.951164</td>\n",
       "      <td>Assassination</td>\n",
       "      <td>1.0</td>\n",
       "      <td>0.0</td>\n",
       "      <td>Julio Guzman</td>\n",
       "      <td>NaN</td>\n",
       "      <td>MANO-D</td>\n",
       "      <td>Private Citizens &amp; Property</td>\n",
       "      <td>Unknown</td>\n",
       "    </tr>\n",
       "    <tr>\n",
       "      <th>1</th>\n",
       "      <td>1970</td>\n",
       "      <td>0</td>\n",
       "      <td>0</td>\n",
       "      <td>Mexico</td>\n",
       "      <td>Federal</td>\n",
       "      <td>North America</td>\n",
       "      <td>Mexico city</td>\n",
       "      <td>19.371887</td>\n",
       "      <td>-99.086624</td>\n",
       "      <td>Hostage Taking (Kidnapping)</td>\n",
       "      <td>0.0</td>\n",
       "      <td>0.0</td>\n",
       "      <td>Nadine Chaval, daughter</td>\n",
       "      <td>NaN</td>\n",
       "      <td>23rd of September Communist League</td>\n",
       "      <td>Government (Diplomatic)</td>\n",
       "      <td>Unknown</td>\n",
       "    </tr>\n",
       "    <tr>\n",
       "      <th>2</th>\n",
       "      <td>1970</td>\n",
       "      <td>1</td>\n",
       "      <td>0</td>\n",
       "      <td>Philippines</td>\n",
       "      <td>Tarlac</td>\n",
       "      <td>Southeast Asia</td>\n",
       "      <td>Unknown</td>\n",
       "      <td>15.478598</td>\n",
       "      <td>120.599741</td>\n",
       "      <td>Assassination</td>\n",
       "      <td>1.0</td>\n",
       "      <td>0.0</td>\n",
       "      <td>Employee</td>\n",
       "      <td>NaN</td>\n",
       "      <td>Unknown</td>\n",
       "      <td>Journalists &amp; Media</td>\n",
       "      <td>Unknown</td>\n",
       "    </tr>\n",
       "    <tr>\n",
       "      <th>3</th>\n",
       "      <td>1970</td>\n",
       "      <td>1</td>\n",
       "      <td>0</td>\n",
       "      <td>Greece</td>\n",
       "      <td>Attica</td>\n",
       "      <td>Western Europe</td>\n",
       "      <td>Athens</td>\n",
       "      <td>37.997490</td>\n",
       "      <td>23.762728</td>\n",
       "      <td>Bombing/Explosion</td>\n",
       "      <td>NaN</td>\n",
       "      <td>NaN</td>\n",
       "      <td>U.S. Embassy</td>\n",
       "      <td>NaN</td>\n",
       "      <td>Unknown</td>\n",
       "      <td>Government (Diplomatic)</td>\n",
       "      <td>Explosives</td>\n",
       "    </tr>\n",
       "    <tr>\n",
       "      <th>4</th>\n",
       "      <td>1970</td>\n",
       "      <td>1</td>\n",
       "      <td>0</td>\n",
       "      <td>Japan</td>\n",
       "      <td>Fukouka</td>\n",
       "      <td>East Asia</td>\n",
       "      <td>Fukouka</td>\n",
       "      <td>33.580412</td>\n",
       "      <td>130.396361</td>\n",
       "      <td>Facility/Infrastructure Attack</td>\n",
       "      <td>NaN</td>\n",
       "      <td>NaN</td>\n",
       "      <td>U.S. Consulate</td>\n",
       "      <td>NaN</td>\n",
       "      <td>Unknown</td>\n",
       "      <td>Government (Diplomatic)</td>\n",
       "      <td>Incendiary</td>\n",
       "    </tr>\n",
       "  </tbody>\n",
       "</table>\n",
       "</div>"
      ],
      "text/plain": [
       "   Year  Month  Day             Country    State                       Region  \\\n",
       "0  1970      7    2  Dominican Republic      NaN  Central America & Caribbean   \n",
       "1  1970      0    0              Mexico  Federal                North America   \n",
       "2  1970      1    0         Philippines   Tarlac               Southeast Asia   \n",
       "3  1970      1    0              Greece   Attica               Western Europe   \n",
       "4  1970      1    0               Japan  Fukouka                    East Asia   \n",
       "\n",
       "            city   latitude   longitude                      Attacktype  \\\n",
       "0  Santo Domingo  18.456792  -69.951164                   Assassination   \n",
       "1    Mexico city  19.371887  -99.086624     Hostage Taking (Kidnapping)   \n",
       "2        Unknown  15.478598  120.599741                   Assassination   \n",
       "3         Athens  37.997490   23.762728               Bombing/Explosion   \n",
       "4        Fukouka  33.580412  130.396361  Facility/Infrastructure Attack   \n",
       "\n",
       "   Killed  Wounded                   target summary  \\\n",
       "0     1.0      0.0             Julio Guzman     NaN   \n",
       "1     0.0      0.0  Nadine Chaval, daughter     NaN   \n",
       "2     1.0      0.0                 Employee     NaN   \n",
       "3     NaN      NaN             U.S. Embassy     NaN   \n",
       "4     NaN      NaN           U.S. Consulate     NaN   \n",
       "\n",
       "                                Group                  target_type Weapon_type  \n",
       "0                              MANO-D  Private Citizens & Property     Unknown  \n",
       "1  23rd of September Communist League      Government (Diplomatic)     Unknown  \n",
       "2                             Unknown          Journalists & Media     Unknown  \n",
       "3                             Unknown      Government (Diplomatic)  Explosives  \n",
       "4                             Unknown      Government (Diplomatic)  Incendiary  "
      ]
     },
     "execution_count": 9,
     "metadata": {},
     "output_type": "execute_result"
    }
   ],
   "source": [
    "df1.head()"
   ]
  },
  {
   "cell_type": "code",
   "execution_count": 11,
   "id": "ab69bfbd",
   "metadata": {},
   "outputs": [
    {
     "name": "stdout",
     "output_type": "stream",
     "text": [
      "<class 'pandas.core.frame.DataFrame'>\n",
      "RangeIndex: 181691 entries, 0 to 181690\n",
      "Data columns (total 17 columns):\n",
      " #   Column       Non-Null Count   Dtype  \n",
      "---  ------       --------------   -----  \n",
      " 0   Year         181691 non-null  int64  \n",
      " 1   Month        181691 non-null  int64  \n",
      " 2   Day          181691 non-null  int64  \n",
      " 3   Country      181691 non-null  object \n",
      " 4   State        181270 non-null  object \n",
      " 5   Region       181691 non-null  object \n",
      " 6   city         181257 non-null  object \n",
      " 7   latitude     177135 non-null  float64\n",
      " 8   longitude    177134 non-null  float64\n",
      " 9   Attacktype   181691 non-null  object \n",
      " 10  Killed       171378 non-null  float64\n",
      " 11  Wounded      165380 non-null  float64\n",
      " 12  target       181055 non-null  object \n",
      " 13  summary      115562 non-null  object \n",
      " 14  Group        181691 non-null  object \n",
      " 15  target_type  181691 non-null  object \n",
      " 16  Weapon_type  181691 non-null  object \n",
      "dtypes: float64(4), int64(3), object(10)\n",
      "memory usage: 23.6+ MB\n"
     ]
    }
   ],
   "source": [
    "# Checking the information of the data:\n",
    "\n",
    "df1.info()"
   ]
  },
  {
   "cell_type": "code",
   "execution_count": 12,
   "id": "101f1a10",
   "metadata": {},
   "outputs": [
    {
     "name": "stdout",
     "output_type": "stream",
     "text": [
      "Year 47\n",
      "Month 13\n",
      "Day 32\n",
      "Country 205\n",
      "State 2855\n",
      "Region 12\n",
      "city 36674\n",
      "latitude 48322\n",
      "longitude 48039\n",
      "Attacktype 9\n",
      "Killed 205\n",
      "Wounded 238\n",
      "target 86006\n",
      "summary 112492\n",
      "Group 3537\n",
      "target_type 22\n",
      "Weapon_type 12\n"
     ]
    }
   ],
   "source": [
    "# Looking at the unique values in the data:\n",
    "\n",
    "for i in df1.columns:\n",
    "    print(i,df1[i].nunique())"
   ]
  },
  {
   "cell_type": "code",
   "execution_count": 13,
   "id": "43693dc7",
   "metadata": {},
   "outputs": [
    {
     "data": {
      "text/plain": [
       "Year            0.000000\n",
       "Month           0.000000\n",
       "Day             0.000000\n",
       "Country         0.000000\n",
       "State           0.231712\n",
       "Region          0.000000\n",
       "city            0.238867\n",
       "latitude        2.507554\n",
       "longitude       2.508104\n",
       "Attacktype      0.000000\n",
       "Killed          5.676120\n",
       "Wounded         8.977330\n",
       "target          0.350045\n",
       "summary        36.396409\n",
       "Group           0.000000\n",
       "target_type     0.000000\n",
       "Weapon_type     0.000000\n",
       "dtype: float64"
      ]
     },
     "execution_count": 13,
     "metadata": {},
     "output_type": "execute_result"
    }
   ],
   "source": [
    "# Checking for the percentage of null values in the dataset:\n",
    "\n",
    "(df1.isnull().sum()/len(df1)*100)"
   ]
  },
  {
   "cell_type": "code",
   "execution_count": 14,
   "id": "40e473ec",
   "metadata": {},
   "outputs": [],
   "source": [
    "# There are more null values in the Weapon and Killed column:\n",
    "\n",
    "df1[\"Wounded\"] = df[\"Wounded\"].fillna(0).astype(int)\n",
    "df1[\"Killed\"] = df[\"Killed\"].fillna(0).astype(int)"
   ]
  },
  {
   "cell_type": "code",
   "execution_count": 15,
   "id": "e4cfaea7",
   "metadata": {},
   "outputs": [
    {
     "data": {
      "text/html": [
       "<div>\n",
       "<style scoped>\n",
       "    .dataframe tbody tr th:only-of-type {\n",
       "        vertical-align: middle;\n",
       "    }\n",
       "\n",
       "    .dataframe tbody tr th {\n",
       "        vertical-align: top;\n",
       "    }\n",
       "\n",
       "    .dataframe thead th {\n",
       "        text-align: right;\n",
       "    }\n",
       "</style>\n",
       "<table border=\"1\" class=\"dataframe\">\n",
       "  <thead>\n",
       "    <tr style=\"text-align: right;\">\n",
       "      <th></th>\n",
       "      <th>count</th>\n",
       "      <th>mean</th>\n",
       "      <th>std</th>\n",
       "      <th>min</th>\n",
       "      <th>25%</th>\n",
       "      <th>50%</th>\n",
       "      <th>75%</th>\n",
       "      <th>max</th>\n",
       "    </tr>\n",
       "  </thead>\n",
       "  <tbody>\n",
       "    <tr>\n",
       "      <th>Year</th>\n",
       "      <td>181691.0</td>\n",
       "      <td>2002.638997</td>\n",
       "      <td>13.259430</td>\n",
       "      <td>1.970000e+03</td>\n",
       "      <td>1991.000000</td>\n",
       "      <td>2009.000000</td>\n",
       "      <td>2014.000000</td>\n",
       "      <td>2017.000000</td>\n",
       "    </tr>\n",
       "    <tr>\n",
       "      <th>Month</th>\n",
       "      <td>181691.0</td>\n",
       "      <td>6.467277</td>\n",
       "      <td>3.388303</td>\n",
       "      <td>0.000000e+00</td>\n",
       "      <td>4.000000</td>\n",
       "      <td>6.000000</td>\n",
       "      <td>9.000000</td>\n",
       "      <td>12.000000</td>\n",
       "    </tr>\n",
       "    <tr>\n",
       "      <th>Day</th>\n",
       "      <td>181691.0</td>\n",
       "      <td>15.505644</td>\n",
       "      <td>8.814045</td>\n",
       "      <td>0.000000e+00</td>\n",
       "      <td>8.000000</td>\n",
       "      <td>15.000000</td>\n",
       "      <td>23.000000</td>\n",
       "      <td>31.000000</td>\n",
       "    </tr>\n",
       "    <tr>\n",
       "      <th>latitude</th>\n",
       "      <td>177135.0</td>\n",
       "      <td>23.498343</td>\n",
       "      <td>18.569242</td>\n",
       "      <td>-5.315461e+01</td>\n",
       "      <td>11.510046</td>\n",
       "      <td>31.467463</td>\n",
       "      <td>34.685087</td>\n",
       "      <td>74.633553</td>\n",
       "    </tr>\n",
       "    <tr>\n",
       "      <th>longitude</th>\n",
       "      <td>177134.0</td>\n",
       "      <td>-458.695653</td>\n",
       "      <td>204778.988611</td>\n",
       "      <td>-8.618590e+07</td>\n",
       "      <td>4.545640</td>\n",
       "      <td>43.246506</td>\n",
       "      <td>68.710327</td>\n",
       "      <td>179.366667</td>\n",
       "    </tr>\n",
       "    <tr>\n",
       "      <th>Killed</th>\n",
       "      <td>181691.0</td>\n",
       "      <td>2.266860</td>\n",
       "      <td>11.227057</td>\n",
       "      <td>0.000000e+00</td>\n",
       "      <td>0.000000</td>\n",
       "      <td>0.000000</td>\n",
       "      <td>2.000000</td>\n",
       "      <td>1570.000000</td>\n",
       "    </tr>\n",
       "    <tr>\n",
       "      <th>Wounded</th>\n",
       "      <td>181691.0</td>\n",
       "      <td>2.883291</td>\n",
       "      <td>34.309746</td>\n",
       "      <td>0.000000e+00</td>\n",
       "      <td>0.000000</td>\n",
       "      <td>0.000000</td>\n",
       "      <td>2.000000</td>\n",
       "      <td>8191.000000</td>\n",
       "    </tr>\n",
       "  </tbody>\n",
       "</table>\n",
       "</div>"
      ],
      "text/plain": [
       "              count         mean            std           min          25%  \\\n",
       "Year       181691.0  2002.638997      13.259430  1.970000e+03  1991.000000   \n",
       "Month      181691.0     6.467277       3.388303  0.000000e+00     4.000000   \n",
       "Day        181691.0    15.505644       8.814045  0.000000e+00     8.000000   \n",
       "latitude   177135.0    23.498343      18.569242 -5.315461e+01    11.510046   \n",
       "longitude  177134.0  -458.695653  204778.988611 -8.618590e+07     4.545640   \n",
       "Killed     181691.0     2.266860      11.227057  0.000000e+00     0.000000   \n",
       "Wounded    181691.0     2.883291      34.309746  0.000000e+00     0.000000   \n",
       "\n",
       "                   50%          75%          max  \n",
       "Year       2009.000000  2014.000000  2017.000000  \n",
       "Month         6.000000     9.000000    12.000000  \n",
       "Day          15.000000    23.000000    31.000000  \n",
       "latitude     31.467463    34.685087    74.633553  \n",
       "longitude    43.246506    68.710327   179.366667  \n",
       "Killed        0.000000     2.000000  1570.000000  \n",
       "Wounded       0.000000     2.000000  8191.000000  "
      ]
     },
     "execution_count": 15,
     "metadata": {},
     "output_type": "execute_result"
    }
   ],
   "source": [
    "# Describing the data:\n",
    "\n",
    "df1.describe().T"
   ]
  },
  {
   "cell_type": "markdown",
   "id": "8a91f203",
   "metadata": {},
   "source": [
    "## Univariate analysis of the dataset"
   ]
  },
  {
   "cell_type": "code",
   "execution_count": 16,
   "id": "69770acb",
   "metadata": {},
   "outputs": [
    {
     "data": {
      "text/plain": [
       "Bombing/Explosion                      88255\n",
       "Armed Assault                          42669\n",
       "Assassination                          19312\n",
       "Hostage Taking (Kidnapping)            11158\n",
       "Facility/Infrastructure Attack         10356\n",
       "Unknown                                 7276\n",
       "Unarmed Assault                         1015\n",
       "Hostage Taking (Barricade Incident)      991\n",
       "Hijacking                                659\n",
       "Name: Attacktype, dtype: int64"
      ]
     },
     "execution_count": 16,
     "metadata": {},
     "output_type": "execute_result"
    }
   ],
   "source": [
    "# Analysing the Attack Types:\n",
    "\n",
    "(df1[\"Attacktype\"].value_counts())"
   ]
  },
  {
   "cell_type": "markdown",
   "id": "10c76eaa",
   "metadata": {},
   "source": [
    "Observation : From the above information we could observe that Bombing/Explosion attack type is more, followed by armed assault and so on."
   ]
  },
  {
   "cell_type": "code",
   "execution_count": 17,
   "id": "4fe91ccf",
   "metadata": {},
   "outputs": [
    {
     "data": {
      "text/plain": [
       "Text(0.5, 1.0, 'Attack Types')"
      ]
     },
     "execution_count": 17,
     "metadata": {},
     "output_type": "execute_result"
    },
    {
     "data": {
      "image/png": "[encoded data removed]",
      "text/plain": [
       "<Figure size 1800x576 with 1 Axes>"
      ]
     },
     "metadata": {
      "needs_background": "light"
     },
     "output_type": "display_data"
    }
   ],
   "source": [
    "# To understand this better we will plot a countplot for the same:\n",
    "\n",
    "plt.figure(figsize=(25,8))\n",
    "sns.histplot(df1[\"Attacktype\"],palette=\"cubehellx\")\n",
    "plt.title(\"Attack Types\")"
   ]
  },
  {
   "cell_type": "code",
   "execution_count": 18,
   "id": "fdec59d6",
   "metadata": {},
   "outputs": [
    {
     "data": {
      "text/plain": [
       "Iraq                   24636\n",
       "Pakistan               14368\n",
       "Afghanistan            12731\n",
       "India                  11960\n",
       "Colombia                8306\n",
       "                       ...  \n",
       "International              1\n",
       "Wallis and Futuna          1\n",
       "South Vietnam              1\n",
       "Andorra                    1\n",
       "Antigua and Barbuda        1\n",
       "Name: Country, Length: 205, dtype: int64"
      ]
     },
     "execution_count": 18,
     "metadata": {},
     "output_type": "execute_result"
    }
   ],
   "source": [
    "# Countries that are affected by terrorism:\n",
    "\n",
    "df1[\"Country\"].value_counts()"
   ]
  },
  {
   "cell_type": "markdown",
   "id": "904e4cab",
   "metadata": {},
   "source": [
    "There are so many countries to analyse in the dataset. Let us take top ten countries that are affected by terrorism. "
   ]
  },
  {
   "cell_type": "code",
   "execution_count": 19,
   "id": "ee3849f7",
   "metadata": {},
   "outputs": [
    {
     "data": {
      "text/plain": [
       "Iraq              24636\n",
       "Pakistan          14368\n",
       "Afghanistan       12731\n",
       "India             11960\n",
       "Colombia           8306\n",
       "Philippines        6908\n",
       "Peru               6096\n",
       "El Salvador        5320\n",
       "United Kingdom     5235\n",
       "Turkey             4292\n",
       "Name: Country, dtype: int64"
      ]
     },
     "execution_count": 19,
     "metadata": {},
     "output_type": "execute_result"
    }
   ],
   "source": [
    "df1[\"Country\"].value_counts()[:10]"
   ]
  },
  {
   "cell_type": "code",
   "execution_count": 20,
   "id": "e40067df",
   "metadata": {},
   "outputs": [
    {
     "data": {
      "text/plain": [
       "Text(0, 0.5, 'Counts')"
      ]
     },
     "execution_count": 20,
     "metadata": {},
     "output_type": "execute_result"
    },
    {
     "data": {
      "image/png": "[encoded data removed]",
      "text/plain": [
       "<Figure size 1080x504 with 1 Axes>"
      ]
     },
     "metadata": {
      "needs_background": "light"
     },
     "output_type": "display_data"
    }
   ],
   "source": [
    "# Plotting this information graphically:\n",
    "\n",
    "plt.figure(figsize=(15,7))\n",
    "sns.barplot(df1[\"Country\"].value_counts()[:10].index,df1[\"Country\"].value_counts()[:10].values,palette=\"magma\")\n",
    "plt.title(\"Top Ten Countries affected by Terrorism\")\n",
    "plt.xlabel(\"Countries\")\n",
    "plt.ylabel(\"Counts\")"
   ]
  },
  {
   "cell_type": "markdown",
   "id": "4370f942",
   "metadata": {},
   "source": [
    "Observation : Iraq is the most affected by terrorism, followed by Pakistan, Afghanistan and so on."
   ]
  },
  {
   "cell_type": "code",
   "execution_count": 21,
   "id": "5f728bbb",
   "metadata": {},
   "outputs": [
    {
     "data": {
      "text/plain": [
       "Private Citizens & Property       43511\n",
       "Military                          27984\n",
       "Police                            24506\n",
       "Government (General)              21283\n",
       "Business                          20669\n",
       "Transportation                     6799\n",
       "Utilities                          6023\n",
       "Unknown                            5898\n",
       "Religious Figures/Institutions     4440\n",
       "Educational Institution            4322\n",
       "Government (Diplomatic)            3573\n",
       "Terrorists/Non-State Militia       3039\n",
       "Journalists & Media                2948\n",
       "Violent Political Party            1866\n",
       "Airports & Aircraft                1343\n",
       "Telecommunication                  1009\n",
       "NGO                                 970\n",
       "Tourists                            440\n",
       "Maritime                            351\n",
       "Food or Water Supply                317\n",
       "Abortion Related                    263\n",
       "Other                               137\n",
       "Name: target_type, dtype: int64"
      ]
     },
     "execution_count": 21,
     "metadata": {},
     "output_type": "execute_result"
    }
   ],
   "source": [
    "# Attack targets:\n",
    "\n",
    "df1[\"target_type\"].value_counts()"
   ]
  },
  {
   "cell_type": "code",
   "execution_count": 22,
   "id": "b16b059d",
   "metadata": {},
   "outputs": [
    {
     "data": {
      "text/plain": [
       "(array([0, 1, 2, 3, 4, 5, 6, 7, 8, 9]),\n",
       " [Text(0, 0, 'Private Citizens & Property'),\n",
       "  Text(1, 0, 'Military'),\n",
       "  Text(2, 0, 'Police'),\n",
       "  Text(3, 0, 'Government (General)'),\n",
       "  Text(4, 0, 'Business'),\n",
       "  Text(5, 0, 'Transportation'),\n",
       "  Text(6, 0, 'Utilities'),\n",
       "  Text(7, 0, 'Unknown'),\n",
       "  Text(8, 0, 'Religious Figures/Institutions'),\n",
       "  Text(9, 0, 'Educational Institution')])"
      ]
     },
     "execution_count": 22,
     "metadata": {},
     "output_type": "execute_result"
    },
    {
     "data": {
      "image/png": "[encoded data removed]",
      "text/plain": [
       "<Figure size 1440x504 with 1 Axes>"
      ]
     },
     "metadata": {
      "needs_background": "light"
     },
     "output_type": "display_data"
    }
   ],
   "source": [
    "# Plotting this information graphically:\n",
    "\n",
    "plt.figure(figsize=(20,7))\n",
    "sns.barplot(df1[\"target_type\"].value_counts()[:10].index,df1[\"target_type\"].value_counts()[:10].values,palette=\"viridis\")\n",
    "plt.title(\"Top Ten Target affected by Terrorism\")\n",
    "plt.xlabel(\"Target\")\n",
    "plt.ylabel(\"Count\")\n",
    "plt.xticks(rotation=90)"
   ]
  },
  {
   "cell_type": "markdown",
   "id": "93c42e9f",
   "metadata": {},
   "source": [
    "Observation: The most targeted people are Private citizens and property,followed by military,police and so on."
   ]
  },
  {
   "cell_type": "code",
   "execution_count": 23,
   "id": "f7551f70",
   "metadata": {},
   "outputs": [
    {
     "data": {
      "image/png": "[encoded data removed]",
      "text/plain": [
       "<Figure size 1080x360 with 2 Axes>"
      ]
     },
     "metadata": {
      "needs_background": "light"
     },
     "output_type": "display_data"
    }
   ],
   "source": [
    "# Regions that were attacked the most:\n",
    "\n",
    "plt.subplot(1,2,1)\n",
    "sns.barplot(df1['Region'].value_counts().index, df1[\"Region\"].value_counts().values,palette='mako')\n",
    "plt.title('Top attacked regions',fontsize=20)\n",
    "plt.xlabel('Regions',fontsize=15)\n",
    "plt.ylabel('Number of Attacks',fontsize=15)\n",
    "plt.xticks(rotation=90)\n",
    "\n",
    "\n",
    "# States that were attacked the most\n",
    "plt.subplot(1,2,2)\n",
    "sns.barplot(df1['State'].value_counts().head(15).index,df1['State'].value_counts().head(15).values,palette='flare')\n",
    "plt.title('Top 15 Attacked States',fontsize=20)\n",
    "plt.xlabel('States',fontsize=15)\n",
    "plt.ylabel('Number of Attacks',fontsize=15)\n",
    "plt.xticks(rotation=90)\n",
    "plt.gcf().set_size_inches(15, 5)"
   ]
  },
  {
   "cell_type": "markdown",
   "id": "0fc9a652",
   "metadata": {},
   "source": [
    "     Observation:1. Top attacked regions are Middle East & North Africa followed by South Asia\n",
    "                 2. The top attacked state is Baghdad followed by Northern Ireland"
   ]
  },
  {
   "cell_type": "code",
   "execution_count": 24,
   "id": "c2a76199",
   "metadata": {},
   "outputs": [
    {
     "data": {
      "text/plain": [
       "Explosives                                                                     50.869883\n",
       "Firearms                                                                       32.210731\n",
       "Unknown                                                                         8.342185\n",
       "Incendiary                                                                      6.128537\n",
       "Melee                                                                           2.011657\n",
       "Chemical                                                                        0.176674\n",
       "Sabotage Equipment                                                              0.077604\n",
       "Vehicle (not to include vehicle-borne explosives, i.e., car or truck bombs)     0.074852\n",
       "Other                                                                           0.062744\n",
       "Biological                                                                      0.019263\n",
       "Fake Weapons                                                                    0.018163\n",
       "Radiological                                                                    0.007705\n",
       "Name: Weapon_type, dtype: float64"
      ]
     },
     "execution_count": 24,
     "metadata": {},
     "output_type": "execute_result"
    }
   ],
   "source": [
    "# Type of weapon used:\n",
    "\n",
    "(df1[\"Weapon_type\"].value_counts()/len(df1))*100"
   ]
  },
  {
   "cell_type": "code",
   "execution_count": 25,
   "id": "ac4e6580",
   "metadata": {},
   "outputs": [
    {
     "data": {
      "text/plain": [
       "Text(0, 0.5, 'Count')"
      ]
     },
     "execution_count": 25,
     "metadata": {},
     "output_type": "execute_result"
    },
    {
     "data": {
      "image/png": "[encoded data removed]",
      "text/plain": [
       "<Figure size 720x432 with 1 Axes>"
      ]
     },
     "metadata": {
      "needs_background": "light"
     },
     "output_type": "display_data"
    }
   ],
   "source": [
    "# Plotting the barplot of the top 5 weapons used by the terrorist:\n",
    "\n",
    "plt.figure(figsize=(10,6))\n",
    "sns.barplot(df1[\"Weapon_type\"].value_counts()[:5].index,df1[\"Weapon_type\"].value_counts()[:5].values,palette=\"crest\")\n",
    "plt.title(\"Top Five Weapons used\",fontsize=16)\n",
    "plt.xlabel(\"Weapons\",fontsize=12)\n",
    "plt.ylabel(\"Count\",fontsize=12)"
   ]
  },
  {
   "cell_type": "markdown",
   "id": "0019b694",
   "metadata": {},
   "source": [
    "Observation: Explosives and Firearms are used more wherein 51% is of explosives and around 32% firearms."
   ]
  },
  {
   "cell_type": "code",
   "execution_count": 26,
   "id": "359526d2",
   "metadata": {},
   "outputs": [
    {
     "data": {
      "text/plain": [
       "Text(0.5, 1.0, 'Years of attack')"
      ]
     },
     "execution_count": 26,
     "metadata": {},
     "output_type": "execute_result"
    },
    {
     "data": {
      "image/png": "[encoded data removed]",
      "text/plain": [
       "<Figure size 1080x504 with 1 Axes>"
      ]
     },
     "metadata": {
      "needs_background": "light"
     },
     "output_type": "display_data"
    }
   ],
   "source": [
    "# Analysing the number of attacks that took place every year\n",
    "\n",
    "years = df1['Year'].unique()\n",
    "count_of_years = df1['Year'].value_counts(dropna = False).sort_index()\n",
    "plt.figure(figsize = (15,7))\n",
    "sns.barplot(x = years,y = count_of_years,palette = 'crest')\n",
    "plt.xticks(rotation = 90)\n",
    "plt.xlabel('Year of attack took place')\n",
    "plt.ylabel('Number of Attacks')\n",
    "plt.title('Years of attack')"
   ]
  },
  {
   "cell_type": "markdown",
   "id": "8bfc68ca",
   "metadata": {},
   "source": [
    "Observation : More number of attacks have taken place after 2012."
   ]
  },
  {
   "cell_type": "code",
   "execution_count": 27,
   "id": "1b23fb1a",
   "metadata": {},
   "outputs": [
    {
     "data": {
      "image/png": "[encoded data removed]",
      "text/plain": [
       "<Figure size 1080x504 with 1 Axes>"
      ]
     },
     "metadata": {
      "needs_background": "light"
     },
     "output_type": "display_data"
    }
   ],
   "source": [
    "# Analysing the number of deaths taken place in each year.\n",
    "\n",
    "plt.figure(figsize = (15,7))\n",
    "df1.groupby(['Year'])['Killed'].sum().plot(kind='bar',colormap=\"viridis\")\n",
    "plt.title('Number of Deaths in different years',fontsize=25)\n",
    "plt.xlabel('Years',fontsize=25)\n",
    "plt.ylabel('Number of Deaths',fontsize=25)\n",
    "plt.xticks(rotation=90)\n",
    "plt.show()"
   ]
  },
  {
   "cell_type": "markdown",
   "id": "3e95ef38",
   "metadata": {},
   "source": [
    "Observation: The number of deaths have increased after 2013. More than 25000+ people died in the attack."
   ]
  },
  {
   "cell_type": "markdown",
   "id": "e33f7d4e",
   "metadata": {},
   "source": [
    "## Bivariate analysis"
   ]
  },
  {
   "cell_type": "markdown",
   "id": "b2688a63",
   "metadata": {},
   "source": [
    "#### 1. Region-wise analysis"
   ]
  },
  {
   "cell_type": "code",
   "execution_count": 28,
   "id": "fc0e529c",
   "metadata": {},
   "outputs": [
    {
     "data": {
      "image/png": "[encoded data removed]",
      "text/plain": [
       "<Figure size 1080x360 with 2 Axes>"
      ]
     },
     "metadata": {
      "needs_background": "light"
     },
     "output_type": "display_data"
    }
   ],
   "source": [
    "# Analysing the Number of people wounded by region:\n",
    "\n",
    "plt.subplot(1,2,1)\n",
    "df1.groupby(['Region'])['Wounded'].sum().sort_values(ascending = False).plot(kind='bar',colormap='cubehelix')\n",
    "plt.title('Regions with Wounded people',fontsize=15)\n",
    "plt.xlabel('Region',fontsize=12)\n",
    "plt.ylabel('Number of Wounded',fontsize=12)\n",
    "plt.xticks(rotation=90)\n",
    "\n",
    "\n",
    "# Analysing the Number of people killed by region:\n",
    "\n",
    "plt.subplot(1,2,2)\n",
    "df1.groupby(['Region'])['Killed'].sum().sort_values(ascending = False).plot(kind='bar',colormap='cubehelix')\n",
    "plt.title('Regions with killed People',fontsize=15)\n",
    "plt.xlabel('Region',fontsize=12)\n",
    "plt.ylabel('Number of Killed',fontsize=12)\n",
    "plt.xticks(rotation=90)\n",
    "plt.gcf().set_size_inches(15, 5) \n"
   ]
  },
  {
   "cell_type": "markdown",
   "id": "f0314d80",
   "metadata": {},
   "source": [
    "Observation: The regions of Middle East & North Africa are the most killed and wounded followed by South-Asia and Sub-Saharan                Africa"
   ]
  },
  {
   "cell_type": "markdown",
   "id": "445507ed",
   "metadata": {},
   "source": [
    "#### 2.Countrywise analysis"
   ]
  },
  {
   "cell_type": "code",
   "execution_count": 29,
   "id": "117b8002",
   "metadata": {},
   "outputs": [
    {
     "data": {
      "image/png": "[encoded data removed]",
      "text/plain": [
       "<Figure size 1080x360 with 2 Axes>"
      ]
     },
     "metadata": {
      "needs_background": "light"
     },
     "output_type": "display_data"
    }
   ],
   "source": [
    "# Analysing countrywise people killed:\n",
    "\n",
    "plt.subplot(1,2,2)\n",
    "df1.groupby(['Country'])['Wounded'].sum().sort_values(ascending = False).head(10).plot(kind='bar',colormap=\"Spectral\")\n",
    "plt.title('Country having Wounded People',fontsize=15)\n",
    "plt.xlabel('Country',fontsize=15)\n",
    "plt.ylabel('Number of Wounded',fontsize=15)\n",
    "plt.xticks(rotation=90)\n",
    "\n",
    "# Analysing countrywise people killed:\n",
    "\n",
    "plt.subplot(1,2,1)\n",
    "df1.groupby(['Country'])['Killed'].sum().sort_values(ascending = False).head(10).plot(kind='bar',colormap=\"Spectral\")\n",
    "plt.title('Country having Killed People',fontsize=15)\n",
    "plt.xlabel('Country',fontsize=15)\n",
    "plt.ylabel('Number of Killed',fontsize=15)\n",
    "plt.xticks(rotation=90)\n",
    "plt.gcf().set_size_inches(15, 5)"
   ]
  },
  {
   "cell_type": "markdown",
   "id": "cc6870a3",
   "metadata": {},
   "source": [
    "    Observation: 1. From the above figures we get to know that Iraq has 70000+ deaths, followed by Afghanistan having \n",
    "                    around 40000 deaths.\n",
    "                 2. More wounded people are again in Iraq having 120000+ wounded people followed by Afghanistan around \n",
    "                    40000+ and then Pakistan and so on\n",
    "                 3. From this we can observe that country Iraq has more number of killed as well as wounded people."
   ]
  },
  {
   "cell_type": "markdown",
   "id": "233828ec",
   "metadata": {},
   "source": [
    "#### Terrorists Groupwise analysis "
   ]
  },
  {
   "cell_type": "code",
   "execution_count": 30,
   "id": "744eb076",
   "metadata": {},
   "outputs": [
    {
     "data": {
      "text/plain": [
       "Text(0, 0.5, 'Groups of Terrorists')"
      ]
     },
     "execution_count": 30,
     "metadata": {},
     "output_type": "execute_result"
    },
    {
     "data": {
      "image/png": "[encoded data removed]",
      "text/plain": [
       "<Figure size 720x720 with 1 Axes>"
      ]
     },
     "metadata": {
      "needs_background": "light"
     },
     "output_type": "display_data"
    }
   ],
   "source": [
    "plt.figure(figsize=(10,10))\n",
    "sns.barplot(df1['Group'].value_counts()[1:11].values, df1['Group'].value_counts()[1:11].index,palette='viridis')\n",
    "plt.title('Top 10 Terrorist Organizations',fontsize=15)\n",
    "plt.xlabel('Number of Attacks',fontsize=12)\n",
    "plt.ylabel('Groups of Terrorists',fontsize=12)"
   ]
  },
  {
   "cell_type": "markdown",
   "id": "323a4477",
   "metadata": {},
   "source": [
    "    Observation:  Taliban tops the list of the top 10 terrorist organization, followed by ISIL"
   ]
  },
  {
   "cell_type": "code",
   "execution_count": 31,
   "id": "6bff9c3f",
   "metadata": {},
   "outputs": [],
   "source": [
    "# Let us analyse how many attacks Taliban has made over the years:\n",
    "#This can be done graphically by grouping Taliban and storing the group in the new variable df1_tal\n",
    "\n",
    "df1_tal = df1[df1[\"Group\"]==\"Taliban\"]"
   ]
  },
  {
   "cell_type": "code",
   "execution_count": 32,
   "id": "eb122e05",
   "metadata": {},
   "outputs": [
    {
     "data": {
      "text/html": [
       "<div>\n",
       "<style scoped>\n",
       "    .dataframe tbody tr th:only-of-type {\n",
       "        vertical-align: middle;\n",
       "    }\n",
       "\n",
       "    .dataframe tbody tr th {\n",
       "        vertical-align: top;\n",
       "    }\n",
       "\n",
       "    .dataframe thead th {\n",
       "        text-align: right;\n",
       "    }\n",
       "</style>\n",
       "<table border=\"1\" class=\"dataframe\">\n",
       "  <thead>\n",
       "    <tr style=\"text-align: right;\">\n",
       "      <th></th>\n",
       "      <th>Year</th>\n",
       "      <th>Month</th>\n",
       "      <th>Day</th>\n",
       "      <th>Country</th>\n",
       "      <th>State</th>\n",
       "      <th>Region</th>\n",
       "      <th>city</th>\n",
       "      <th>latitude</th>\n",
       "      <th>longitude</th>\n",
       "      <th>Attacktype</th>\n",
       "      <th>Killed</th>\n",
       "      <th>Wounded</th>\n",
       "      <th>target</th>\n",
       "      <th>summary</th>\n",
       "      <th>Group</th>\n",
       "      <th>target_type</th>\n",
       "      <th>Weapon_type</th>\n",
       "    </tr>\n",
       "  </thead>\n",
       "  <tbody>\n",
       "    <tr>\n",
       "      <th>59040</th>\n",
       "      <td>1995</td>\n",
       "      <td>4</td>\n",
       "      <td>20</td>\n",
       "      <td>Afghanistan</td>\n",
       "      <td>Unknown</td>\n",
       "      <td>South Asia</td>\n",
       "      <td>Unknown</td>\n",
       "      <td>NaN</td>\n",
       "      <td>NaN</td>\n",
       "      <td>Hostage Taking (Kidnapping)</td>\n",
       "      <td>0</td>\n",
       "      <td>0</td>\n",
       "      <td>Federal Investigation Agency</td>\n",
       "      <td>NaN</td>\n",
       "      <td>Taliban</td>\n",
       "      <td>Police</td>\n",
       "      <td>Unknown</td>\n",
       "    </tr>\n",
       "    <tr>\n",
       "      <th>60014</th>\n",
       "      <td>1995</td>\n",
       "      <td>8</td>\n",
       "      <td>3</td>\n",
       "      <td>Afghanistan</td>\n",
       "      <td>Kandahar</td>\n",
       "      <td>South Asia</td>\n",
       "      <td>Kandahar</td>\n",
       "      <td>31.631083</td>\n",
       "      <td>65.742226</td>\n",
       "      <td>Hijacking</td>\n",
       "      <td>0</td>\n",
       "      <td>0</td>\n",
       "      <td>Russian Il-76 Cargo Aircraft</td>\n",
       "      <td>NaN</td>\n",
       "      <td>Taliban</td>\n",
       "      <td>Airports &amp; Aircraft</td>\n",
       "      <td>Explosives</td>\n",
       "    </tr>\n",
       "    <tr>\n",
       "      <th>60462</th>\n",
       "      <td>1995</td>\n",
       "      <td>9</td>\n",
       "      <td>21</td>\n",
       "      <td>Afghanistan</td>\n",
       "      <td>Kandahar</td>\n",
       "      <td>South Asia</td>\n",
       "      <td>Kandahar</td>\n",
       "      <td>31.631083</td>\n",
       "      <td>65.742226</td>\n",
       "      <td>Hijacking</td>\n",
       "      <td>0</td>\n",
       "      <td>0</td>\n",
       "      <td>Boeing 727</td>\n",
       "      <td>NaN</td>\n",
       "      <td>Taliban</td>\n",
       "      <td>Airports &amp; Aircraft</td>\n",
       "      <td>Explosives</td>\n",
       "    </tr>\n",
       "    <tr>\n",
       "      <th>60786</th>\n",
       "      <td>1995</td>\n",
       "      <td>10</td>\n",
       "      <td>25</td>\n",
       "      <td>Afghanistan</td>\n",
       "      <td>Kabul</td>\n",
       "      <td>South Asia</td>\n",
       "      <td>Kabul</td>\n",
       "      <td>34.516895</td>\n",
       "      <td>69.147011</td>\n",
       "      <td>Bombing/Explosion</td>\n",
       "      <td>0</td>\n",
       "      <td>0</td>\n",
       "      <td>ICRC- Chartered Aircraft</td>\n",
       "      <td>NaN</td>\n",
       "      <td>Taliban</td>\n",
       "      <td>Airports &amp; Aircraft</td>\n",
       "      <td>Explosives</td>\n",
       "    </tr>\n",
       "    <tr>\n",
       "      <th>71682</th>\n",
       "      <td>2001</td>\n",
       "      <td>1</td>\n",
       "      <td>7</td>\n",
       "      <td>Afghanistan</td>\n",
       "      <td>Bamyan</td>\n",
       "      <td>South Asia</td>\n",
       "      <td>Yakawlang</td>\n",
       "      <td>34.733333</td>\n",
       "      <td>66.966667</td>\n",
       "      <td>Armed Assault</td>\n",
       "      <td>150</td>\n",
       "      <td>0</td>\n",
       "      <td>Civilians living in the vicinity of Yakawlang</td>\n",
       "      <td>1/7/2001: Taliban militia regained control of ...</td>\n",
       "      <td>Taliban</td>\n",
       "      <td>Private Citizens &amp; Property</td>\n",
       "      <td>Firearms</td>\n",
       "    </tr>\n",
       "    <tr>\n",
       "      <th>...</th>\n",
       "      <td>...</td>\n",
       "      <td>...</td>\n",
       "      <td>...</td>\n",
       "      <td>...</td>\n",
       "      <td>...</td>\n",
       "      <td>...</td>\n",
       "      <td>...</td>\n",
       "      <td>...</td>\n",
       "      <td>...</td>\n",
       "      <td>...</td>\n",
       "      <td>...</td>\n",
       "      <td>...</td>\n",
       "      <td>...</td>\n",
       "      <td>...</td>\n",
       "      <td>...</td>\n",
       "      <td>...</td>\n",
       "      <td>...</td>\n",
       "    </tr>\n",
       "    <tr>\n",
       "      <th>181600</th>\n",
       "      <td>2017</td>\n",
       "      <td>12</td>\n",
       "      <td>28</td>\n",
       "      <td>Afghanistan</td>\n",
       "      <td>Nangarhar</td>\n",
       "      <td>South Asia</td>\n",
       "      <td>Ghani Khel district</td>\n",
       "      <td>34.195782</td>\n",
       "      <td>70.787483</td>\n",
       "      <td>Unknown</td>\n",
       "      <td>4</td>\n",
       "      <td>0</td>\n",
       "      <td>Fifth Brigade Officers</td>\n",
       "      <td>12/28/2017: Assailants attacked border police ...</td>\n",
       "      <td>Taliban</td>\n",
       "      <td>Police</td>\n",
       "      <td>Unknown</td>\n",
       "    </tr>\n",
       "    <tr>\n",
       "      <th>181619</th>\n",
       "      <td>2017</td>\n",
       "      <td>12</td>\n",
       "      <td>28</td>\n",
       "      <td>Afghanistan</td>\n",
       "      <td>Ghazni</td>\n",
       "      <td>South Asia</td>\n",
       "      <td>Ghazni</td>\n",
       "      <td>33.542622</td>\n",
       "      <td>68.415329</td>\n",
       "      <td>Unknown</td>\n",
       "      <td>3</td>\n",
       "      <td>1</td>\n",
       "      <td>Police Checkpoint</td>\n",
       "      <td>12/28/2017: Assailants attacked a police check...</td>\n",
       "      <td>Taliban</td>\n",
       "      <td>Police</td>\n",
       "      <td>Unknown</td>\n",
       "    </tr>\n",
       "    <tr>\n",
       "      <th>181651</th>\n",
       "      <td>2017</td>\n",
       "      <td>12</td>\n",
       "      <td>30</td>\n",
       "      <td>Afghanistan</td>\n",
       "      <td>Uruzgan</td>\n",
       "      <td>South Asia</td>\n",
       "      <td>Khas Uruzgan district</td>\n",
       "      <td>32.932938</td>\n",
       "      <td>66.689238</td>\n",
       "      <td>Unknown</td>\n",
       "      <td>11</td>\n",
       "      <td>15</td>\n",
       "      <td>Checkpoints</td>\n",
       "      <td>12/30/2017: Assailants attacked security check...</td>\n",
       "      <td>Taliban</td>\n",
       "      <td>Military</td>\n",
       "      <td>Unknown</td>\n",
       "    </tr>\n",
       "    <tr>\n",
       "      <th>181676</th>\n",
       "      <td>2017</td>\n",
       "      <td>12</td>\n",
       "      <td>31</td>\n",
       "      <td>Afghanistan</td>\n",
       "      <td>Logar</td>\n",
       "      <td>South Asia</td>\n",
       "      <td>Mohammad Agha district</td>\n",
       "      <td>34.217806</td>\n",
       "      <td>69.109316</td>\n",
       "      <td>Bombing/Explosion</td>\n",
       "      <td>5</td>\n",
       "      <td>0</td>\n",
       "      <td>Vehicle</td>\n",
       "      <td>12/31/2017: An explosive device detonated targ...</td>\n",
       "      <td>Taliban</td>\n",
       "      <td>Police</td>\n",
       "      <td>Explosives</td>\n",
       "    </tr>\n",
       "    <tr>\n",
       "      <th>181683</th>\n",
       "      <td>2017</td>\n",
       "      <td>12</td>\n",
       "      <td>31</td>\n",
       "      <td>Afghanistan</td>\n",
       "      <td>Faryab</td>\n",
       "      <td>South Asia</td>\n",
       "      <td>Kohistan district</td>\n",
       "      <td>35.315467</td>\n",
       "      <td>64.815508</td>\n",
       "      <td>Armed Assault</td>\n",
       "      <td>6</td>\n",
       "      <td>0</td>\n",
       "      <td>House of Member</td>\n",
       "      <td>12/31/2017: Assailants attacked the house of a...</td>\n",
       "      <td>Taliban</td>\n",
       "      <td>Terrorists/Non-State Militia</td>\n",
       "      <td>Firearms</td>\n",
       "    </tr>\n",
       "  </tbody>\n",
       "</table>\n",
       "<p>7478 rows × 17 columns</p>\n",
       "</div>"
      ],
      "text/plain": [
       "        Year  Month  Day      Country      State      Region  \\\n",
       "59040   1995      4   20  Afghanistan    Unknown  South Asia   \n",
       "60014   1995      8    3  Afghanistan   Kandahar  South Asia   \n",
       "60462   1995      9   21  Afghanistan   Kandahar  South Asia   \n",
       "60786   1995     10   25  Afghanistan      Kabul  South Asia   \n",
       "71682   2001      1    7  Afghanistan     Bamyan  South Asia   \n",
       "...      ...    ...  ...          ...        ...         ...   \n",
       "181600  2017     12   28  Afghanistan  Nangarhar  South Asia   \n",
       "181619  2017     12   28  Afghanistan     Ghazni  South Asia   \n",
       "181651  2017     12   30  Afghanistan    Uruzgan  South Asia   \n",
       "181676  2017     12   31  Afghanistan      Logar  South Asia   \n",
       "181683  2017     12   31  Afghanistan     Faryab  South Asia   \n",
       "\n",
       "                          city   latitude  longitude  \\\n",
       "59040                  Unknown        NaN        NaN   \n",
       "60014                 Kandahar  31.631083  65.742226   \n",
       "60462                 Kandahar  31.631083  65.742226   \n",
       "60786                    Kabul  34.516895  69.147011   \n",
       "71682                Yakawlang  34.733333  66.966667   \n",
       "...                        ...        ...        ...   \n",
       "181600     Ghani Khel district  34.195782  70.787483   \n",
       "181619                  Ghazni  33.542622  68.415329   \n",
       "181651   Khas Uruzgan district  32.932938  66.689238   \n",
       "181676  Mohammad Agha district  34.217806  69.109316   \n",
       "181683       Kohistan district  35.315467  64.815508   \n",
       "\n",
       "                         Attacktype  Killed  Wounded  \\\n",
       "59040   Hostage Taking (Kidnapping)       0        0   \n",
       "60014                     Hijacking       0        0   \n",
       "60462                     Hijacking       0        0   \n",
       "60786             Bombing/Explosion       0        0   \n",
       "71682                 Armed Assault     150        0   \n",
       "...                             ...     ...      ...   \n",
       "181600                      Unknown       4        0   \n",
       "181619                      Unknown       3        1   \n",
       "181651                      Unknown      11       15   \n",
       "181676            Bombing/Explosion       5        0   \n",
       "181683                Armed Assault       6        0   \n",
       "\n",
       "                                               target  \\\n",
       "59040                    Federal Investigation Agency   \n",
       "60014                    Russian Il-76 Cargo Aircraft   \n",
       "60462                                      Boeing 727   \n",
       "60786                        ICRC- Chartered Aircraft   \n",
       "71682   Civilians living in the vicinity of Yakawlang   \n",
       "...                                               ...   \n",
       "181600                         Fifth Brigade Officers   \n",
       "181619                              Police Checkpoint   \n",
       "181651                                    Checkpoints   \n",
       "181676                                        Vehicle   \n",
       "181683                                House of Member   \n",
       "\n",
       "                                                  summary    Group  \\\n",
       "59040                                                 NaN  Taliban   \n",
       "60014                                                 NaN  Taliban   \n",
       "60462                                                 NaN  Taliban   \n",
       "60786                                                 NaN  Taliban   \n",
       "71682   1/7/2001: Taliban militia regained control of ...  Taliban   \n",
       "...                                                   ...      ...   \n",
       "181600  12/28/2017: Assailants attacked border police ...  Taliban   \n",
       "181619  12/28/2017: Assailants attacked a police check...  Taliban   \n",
       "181651  12/30/2017: Assailants attacked security check...  Taliban   \n",
       "181676  12/31/2017: An explosive device detonated targ...  Taliban   \n",
       "181683  12/31/2017: Assailants attacked the house of a...  Taliban   \n",
       "\n",
       "                         target_type Weapon_type  \n",
       "59040                         Police     Unknown  \n",
       "60014            Airports & Aircraft  Explosives  \n",
       "60462            Airports & Aircraft  Explosives  \n",
       "60786            Airports & Aircraft  Explosives  \n",
       "71682    Private Citizens & Property    Firearms  \n",
       "...                              ...         ...  \n",
       "181600                        Police     Unknown  \n",
       "181619                        Police     Unknown  \n",
       "181651                      Military     Unknown  \n",
       "181676                        Police  Explosives  \n",
       "181683  Terrorists/Non-State Militia    Firearms  \n",
       "\n",
       "[7478 rows x 17 columns]"
      ]
     },
     "execution_count": 32,
     "metadata": {},
     "output_type": "execute_result"
    }
   ],
   "source": [
    "df1_tal"
   ]
  },
  {
   "cell_type": "code",
   "execution_count": 33,
   "id": "2146fbaa",
   "metadata": {},
   "outputs": [
    {
     "data": {
      "text/plain": [
       "Text(0, 0.5, 'Number of Attacks')"
      ]
     },
     "execution_count": 33,
     "metadata": {},
     "output_type": "execute_result"
    },
    {
     "data": {
      "image/png": "[encoded data removed]",
      "text/plain": [
       "<Figure size 936x504 with 1 Axes>"
      ]
     },
     "metadata": {
      "needs_background": "light"
     },
     "output_type": "display_data"
    }
   ],
   "source": [
    "# Let us plot the attacks over the years made by Taliban:\n",
    "\n",
    "plt.figure(figsize = (13,7))\n",
    "sns.barplot(df1_tal['Year'].value_counts().index,df1_tal['Year'].value_counts().values, palette = 'flare')\n",
    "plt.title('Terror Attack over the years by Taliban',fontsize=15)\n",
    "plt.xlabel('Years',fontsize=15)\n",
    "plt.ylabel('Number of Attacks',fontsize=15)"
   ]
  },
  {
   "cell_type": "markdown",
   "id": "522b415e",
   "metadata": {},
   "source": [
    "Observation: From the above figure we could observe that since 2014 there is a spike in the number of attacks by Taliban."
   ]
  },
  {
   "cell_type": "markdown",
   "id": "7a97e797",
   "metadata": {},
   "source": [
    "## Conclusion"
   ]
  },
  {
   "cell_type": "markdown",
   "id": "55925b73",
   "metadata": {},
   "source": [
    "Insights that can be drawn after doing Exploratory data analysis"
   ]
  },
  {
   "cell_type": "markdown",
   "id": "f8d57e0f",
   "metadata": {},
   "source": [
    "1. Bombing/Explosion attack type is more, followed by armed assault and so on\n",
    "2. Iraq is the most affected by terrorism, followed by Pakistan, Afghanistan and so on\n",
    "3. The most targeted people are Private citizens and property,followed by military,police and so on\n",
    "4. Top attacked regions are Middle East & North Africa followed by South Asia\n",
    "5. The top attacked state is Baghdad followed by Northern Ireland\n",
    "6. Explosives and Firearms are used more wherein 51% is of explosives and around 32% firearms\n",
    "7. More number of attacks have taken place after 2012\n",
    "8. The number of deaths have increased after 2013. More than 25000+ people died in the attack\n",
    "9. The regions of Middle East & North Africa are the most killed and wounded followed by South-Asia and Sub-Saharan Africa\n",
    "10. Iraq has 70000+ deaths, followed by Afghanistan having around 40000 deaths.\n",
    "11. More wounded people are again in Iraq having 120000+ wounded people followed by Afghanistan around 40000+ and then Pakistan     and so on\n",
    "12. From this we can observe that country Iraq has more number of killed as well as wounded people.\n",
    "13. Taliban tops the list of the top 10 terrorist organization, followed by ISIL\n",
    "14. since 2014 there is a spike in the number of attacks by Taliban."
   ]
  },
  {
   "cell_type": "code",
   "execution_count": null,
   "id": "e092128c",
   "metadata": {},
   "outputs": [],
   "source": []
  }
 ],
 "metadata": {
  "kernelspec": {
   "display_name": "Python 3 (ipykernel)",
   "language": "python",
   "name": "python3"
  },
  "language_info": {
   "codemirror_mode": {
    "name": "ipython",
    "version": 3
   },
   "file_extension": ".py",
   "mimetype": "text/x-python",
   "name": "python",
   "nbconvert_exporter": "python",
   "pygments_lexer": "ipython3",
   "version": "3.9.12"
  }
 },
 "nbformat": 4,
 "nbformat_minor": 5
}
